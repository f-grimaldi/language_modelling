{
 "cells": [
  {
   "cell_type": "code",
   "execution_count": 1,
   "metadata": {},
   "outputs": [],
   "source": [
    "import json"
   ]
  },
  {
   "cell_type": "code",
   "execution_count": 36,
   "metadata": {},
   "outputs": [
    {
     "name": "stdout",
     "output_type": "stream",
     "text": [
      "Data is a <class 'list'> of length 3162\n",
      "The tweet are encoded as a <class 'dict'> with keys:\n",
      "\t-source\n",
      "\t-text\n",
      "\t-created_at\n",
      "\t-retweet_count\n",
      "\t-favorite_count\n",
      "\t-is_retweet\n",
      "\t-id_str\n",
      "\n",
      "Example:\n",
      "-source:             Twitter for iPhone\n",
      "\n",
      "-text:               95% Approval Rating in the Republican Party, 53% overall. Not bad considering I get nothing but Fake &amp; Corrupt News, day and night. “Russia, Russia, Russia”, then “the Ukraine Scam (where’s the Whistleblower?)”, the “Impeachment Hoax”, and more, more, more....\n",
      "\n",
      "-created_at:         Wed Mar 18 13:29:58 +0000 2020\n",
      "\n",
      "-retweet_count:      14877\n",
      "\n",
      "-favorite_count:     71396\n",
      "\n",
      "-is_retweet:         False\n",
      "\n",
      "-id_str:             1240269212871995393\n",
      "\n"
     ]
    }
   ],
   "source": [
    "with open('trump.json', encoding=\"utf8\") as f:\n",
    "    data = json.load(f)\n",
    "print('Data is a {} of length {}'.format(type(data), len(data)))\n",
    "print('The tweet are encoded as a {} with keys:'.format(type(data[0])))\n",
    "for key in data[0]:\n",
    "    print('\\t-{}'.format(key))\n",
    "    \n",
    "print('\\nExample:')\n",
    "for key in data[0]:\n",
    "    print('-{:20}{}\\n'.format('{}:'.format(key), data[0][key]))"
   ]
  },
  {
   "cell_type": "code",
   "execution_count": 88,
   "metadata": {},
   "outputs": [
    {
     "name": "stdout",
     "output_type": "stream",
     "text": [
      "Exception handled: 14\n"
     ]
    }
   ],
   "source": [
    "with open('trump_train.txt', 'w', encoding=\"utf8\") as out:\n",
    "    exception_counter = 0\n",
    "    exception_tweets = []\n",
    "    for n, tweet in enumerate(data):\n",
    "        try:\n",
    "            if tweet['is_retweet']:\n",
    "                text = tweet['text']\n",
    "                text = ' '.join(text.split()[2:])\n",
    "                if text[-1] == '…':\n",
    "                    text = text[:-1]\n",
    "                    text = ' '.join(text.split()[:-1])\n",
    "            else:\n",
    "                text = tweet['text']\n",
    "            out.write(''.join(text.split('\\n')))\n",
    "            out.write('\\n')\n",
    "        except:\n",
    "            out.write(''.join(tweet['text'].split('\\n')))\n",
    "            exception_tweets.append(tweet)\n",
    "            exception_counter += 1\n",
    "\n",
    "print('Exception handled: {}'.format(exception_counter))"
   ]
  }
 ],
 "metadata": {
  "kernelspec": {
   "display_name": "Python 3",
   "language": "python",
   "name": "python3"
  },
  "language_info": {
   "codemirror_mode": {
    "name": "ipython",
    "version": 3
   },
   "file_extension": ".py",
   "mimetype": "text/x-python",
   "name": "python",
   "nbconvert_exporter": "python",
   "pygments_lexer": "ipython3",
   "version": "3.6.8"
  }
 },
 "nbformat": 4,
 "nbformat_minor": 4
}

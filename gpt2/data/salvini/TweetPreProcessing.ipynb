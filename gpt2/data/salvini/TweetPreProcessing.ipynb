{
 "cells": [
  {
   "cell_type": "markdown",
   "metadata": {},
   "source": [
    "## Pre-Process Tweets"
   ]
  },
  {
   "cell_type": "code",
   "execution_count": 37,
   "metadata": {},
   "outputs": [],
   "source": [
    "import pandas as pd\n",
    "import datetime\n",
    "import matplotlib.pyplot as plt\n",
    "import os\n",
    "from tqdm import notebook\n",
    "from tqdm.notebook import tqdm\n",
    "import time"
   ]
  },
  {
   "cell_type": "code",
   "execution_count": 39,
   "metadata": {},
   "outputs": [
    {
     "data": {
      "application/vnd.jupyter.widget-view+json": {
       "model_id": "6fd429f8719b40bea9f7a7f05b9c209e",
       "version_major": 2,
       "version_minor": 0
      },
      "text/plain": [
       "HBox(children=(FloatProgress(value=0.0, description='Iteration', max=8.0, style=ProgressStyle(description_widt…"
      ]
     },
     "metadata": {},
     "output_type": "display_data"
    },
    {
     "name": "stdout",
     "output_type": "stream",
     "text": [
      "\n"
     ]
    }
   ],
   "source": [
    "\n",
    "for n, el in enumerate(notebook.tqdm([0, 1, 3, 56, 28, 129, 123904, 23], desc=\"Iteration\", disable=False)):\n",
    "    time.sleep(1)"
   ]
  },
  {
   "cell_type": "markdown",
   "metadata": {},
   "source": [
    "#### Example of how to download the tweets"
   ]
  },
  {
   "cell_type": "code",
   "execution_count": 67,
   "metadata": {},
   "outputs": [
    {
     "data": {
      "text/plain": [
       "0"
      ]
     },
     "execution_count": 67,
     "metadata": {},
     "output_type": "execute_result"
    }
   ],
   "source": [
    "os.system('python Exporter.py --username \"matteosalvinimi\" --since 2019-1-1 --until 2019-12-31 --output \"2019eg.csv\"')"
   ]
  },
  {
   "cell_type": "markdown",
   "metadata": {},
   "source": [
    "### 1. Create full dataset"
   ]
  },
  {
   "cell_type": "code",
   "execution_count": 8,
   "metadata": {
    "scrolled": false
   },
   "outputs": [
    {
     "name": "stdout",
     "output_type": "stream",
     "text": [
      "Lenght of the annual tweets dataset: [4042, 3977, 4926, 9698]\n"
     ]
    },
    {
     "data": {
      "text/plain": [
       "0    Migliore risposta alla arrogante e nervosetta ...\n",
       "1    Buonanotte Amici, sempre con il sorriso, la co...\n",
       "2    Pronti a salire le scale tutti insieme, per sa...\n",
       "3    Girando per tutta la regione sento voglia di p...\n",
       "4    Non vedo l'ora che arrivi questo 26 gennaio: p...\n",
       "Name: text, dtype: object"
      ]
     },
     "execution_count": 8,
     "metadata": {},
     "output_type": "execute_result"
    }
   ],
   "source": [
    "df2016 = pd.read_csv('tweet2016.csv', sep=';').text\n",
    "df2017 = pd.read_csv('tweet2017.csv', sep=';').text\n",
    "df2018 = pd.read_csv('tweet2018.csv', sep=';').text\n",
    "df2019 = pd.read_csv('tweet2019.csv', sep=';').text\n",
    "print('Lenght of the annual tweets dataset: {}'.format([df.shape[0] for df in [df2016, df2017, df2018, df2019]]))\n",
    "df2019.head()"
   ]
  },
  {
   "cell_type": "markdown",
   "metadata": {},
   "source": [
    "### 2. Exctracting text"
   ]
  },
  {
   "cell_type": "code",
   "execution_count": 9,
   "metadata": {},
   "outputs": [
    {
     "name": "stdout",
     "output_type": "stream",
     "text": [
      "Tweet number: 22643\n"
     ]
    }
   ],
   "source": [
    "text = []\n",
    "for df in [df2016, df2017, df2018, df2019]:\n",
    "    text.extend(list(df.values))\n",
    "print('Tweet number: {}'.format(len(text)))"
   ]
  },
  {
   "cell_type": "markdown",
   "metadata": {},
   "source": [
    "### 3. Cleaning Text\n",
    "\n",
    "Here we try to clean the text from *URLs*. We noticed that the *URLs* occurs only at the end so we split the tweets by *http* and retrieve the first part."
   ]
  },
  {
   "cell_type": "code",
   "execution_count": 19,
   "metadata": {},
   "outputs": [
    {
     "data": {
      "application/vnd.jupyter.widget-view+json": {
       "model_id": "ddf530e169744fb78eac65cce6a369b1",
       "version_major": 2,
       "version_minor": 0
      },
      "text/plain": [
       "HBox(children=(FloatProgress(value=0.0, max=22643.0), HTML(value='')))"
      ]
     },
     "metadata": {},
     "output_type": "display_data"
    },
    {
     "name": "stdout",
     "output_type": "stream",
     "text": [
      "---------------\n",
      "---------------\n",
      "BEFORE:\n",
      "-Anche grazie alla vostra civile protesta, parroco di Potenza toglie Madonna col burqa e smonta presepe islamico\"!http://www.lastampa.it/2016/12/29/multimedia/italia/sconfitto-il-parroco-il-presepe-con-la-madonna-in-abiti-arabi-stato-rimosso-LAcbjnZ7qB5Y0u56m7JLTN/pagina.html …\"\n",
      "\n",
      "AFTER:\n",
      "-Anche grazie alla vostra civile protesta, parroco di Potenza toglie Madonna col burqa e smonta presepe islamico\"!\n",
      "---------------\n",
      "---------------\n",
      "BEFORE:\n",
      "-ATTENZIONE! Adesso che le ronde le fa il PD sono gentili\" e \"democratiche\"...http://bologna.repubblica.it/cronaca/2016/12/29/news/_le_nostre_ronde_di_sinistra_la_sicurezza_non_e_un_tabu_-155028531/ …\"\n",
      "\n",
      "AFTER:\n",
      "-ATTENZIONE! Adesso che le ronde le fa il PD sono gentili\" e \"democratiche\"...\n",
      "---------------\n",
      "---------------\n",
      "BEFORE:\n",
      "-In diretta con voi dalla festa Lega di Albino, Bergamo. Fatemi compagnia, Amici. Voi che cosa state facendo? > https://www.facebook.com/salviniofficial/videos/10154379824518155/ …\n",
      "\n",
      "AFTER:\n",
      "-In diretta con voi dalla festa Lega di Albino, Bergamo. Fatemi compagnia, Amici. Voi che cosa state facendo? \n",
      "---------------\n",
      "---------------\n",
      "\n",
      "Number of tweet cleaned: 5837\n"
     ]
    }
   ],
   "source": [
    "cleaned_from_url = []\n",
    "n = 0\n",
    "k = 0\n",
    "for tweet in tqdm(text):\n",
    "    try:\n",
    "        if 'http' in tweet:\n",
    "            non_url_text = str(tweet.split('http')[0]).split('>')[0]\n",
    "            if n < 3:\n",
    "                if n == 0:\n",
    "                    print('---------------')\n",
    "                    print('---------------')\n",
    "                print('BEFORE:\\n-{}\\n'.format(tweet))\n",
    "                print('AFTER:\\n-{}'.format(str(non_url_text)))\n",
    "                print('---------------')\n",
    "                print('---------------')\n",
    "            n += 1\n",
    "            cleaned_from_url.append(non_url_text)\n",
    "        else:\n",
    "            clearned_from_url.append(tweet)\n",
    "    except:\n",
    "        cleaned_from_url.append(tweet)\n",
    "        k += 1\n",
    "        pass\n",
    "print('Number of tweet cleaned: {}'.format(n))"
   ]
  },
  {
   "cell_type": "markdown",
   "metadata": {},
   "source": [
    "###  4. Writing text file"
   ]
  },
  {
   "cell_type": "code",
   "execution_count": 28,
   "metadata": {},
   "outputs": [
    {
     "data": {
      "application/vnd.jupyter.widget-view+json": {
       "model_id": "2257a8d2540c46529e8a513103a5141e",
       "version_major": 2,
       "version_minor": 0
      },
      "text/plain": [
       "HBox(children=(FloatProgress(value=0.0, max=22643.0), HTML(value='')))"
      ]
     },
     "metadata": {},
     "output_type": "display_data"
    },
    {
     "name": "stdout",
     "output_type": "stream",
     "text": [
      "\n"
     ]
    }
   ],
   "source": [
    "with open('salvini_tweets.txt', 'w', encoding='utf-8') as out_file:\n",
    "    for tweet in tqdm(cleaned_from_url):\n",
    "        try:\n",
    "            out_file.write(tweet.lower())\n",
    "            out_file.write('\\n')\n",
    "        except:\n",
    "            pass"
   ]
  },
  {
   "cell_type": "markdown",
   "metadata": {},
   "source": [
    "### 5. Random Analysis"
   ]
  },
  {
   "cell_type": "code",
   "execution_count": 124,
   "metadata": {},
   "outputs": [
    {
     "data": {
      "application/vnd.jupyter.widget-view+json": {
       "model_id": "ec709737cc4b435b89e67d8aecd13fd9",
       "version_major": 2,
       "version_minor": 0
      },
      "text/plain": [
       "HBox(children=(FloatProgress(value=0.0, max=22643.0), HTML(value='')))"
      ]
     },
     "metadata": {},
     "output_type": "display_data"
    },
    {
     "name": "stdout",
     "output_type": "stream",
     "text": [
      "# salvini: UE non ci aiuta su NULLA, se è così prima se ne esce e meglio è. # dimartedi # votosubito\n",
      "# salvini: inizio a pensare seriamente che qualcuno cerchi lo scontro sociale # QuintaColonna\n",
      "# salvini: L'Italia è una DISCARICA? Ha dei CONFINI oppure no? # matrixpic.twitter.com/jDPC5QpIso\n",
      "# Salvini su # leggesalvini: nulla di disumano come scrive qualcuno, semplicemente si mettono delle regole “più europee”. # MeetMillennials\n",
      "# Salvini su # decretosalvini: ai richiedenti asilo che delinquono verrà sospesa la domanda di asilo. Chi commette reati verrà ESPULSO. # Mattino5\n",
      "# Salvini su # decretosalvini: ritengo sia normale che se ti becco a delinquere, strappo la tua domanda di asilo e torni a casa tua. # QuartaRepubblicapic.twitter.com/1ffJVItdQy\n",
      "\n"
     ]
    }
   ],
   "source": [
    "### Check some sentences where \"salvini:\" is present\n",
    "n = 0\n",
    "for i in tqdm(text):\n",
    "    try:\n",
    "        if \"salvini:\" in i:\n",
    "            print(i)\n",
    "            n += 1\n",
    "        if n == 10:\n",
    "            break\n",
    "    except:\n",
    "        continue"
   ]
  },
  {
   "cell_type": "markdown",
   "metadata": {},
   "source": [
    "### 6. Histogram of frequencies"
   ]
  },
  {
   "cell_type": "code",
   "execution_count": 94,
   "metadata": {},
   "outputs": [
    {
     "data": {
      "application/vnd.jupyter.widget-view+json": {
       "model_id": "598d3a7cd491499280d5aba38390059a",
       "version_major": 2,
       "version_minor": 0
      },
      "text/plain": [
       "HBox(children=(FloatProgress(value=0.0, max=22643.0), HTML(value='')))"
      ]
     },
     "metadata": {},
     "output_type": "display_data"
    },
    {
     "name": "stdout",
     "output_type": "stream",
     "text": [
      "\n"
     ]
    },
    {
     "data": {
      "text/html": [
       "<div>\n",
       "<style scoped>\n",
       "    .dataframe tbody tr th:only-of-type {\n",
       "        vertical-align: middle;\n",
       "    }\n",
       "\n",
       "    .dataframe tbody tr th {\n",
       "        vertical-align: top;\n",
       "    }\n",
       "\n",
       "    .dataframe thead th {\n",
       "        text-align: right;\n",
       "    }\n",
       "</style>\n",
       "<table border=\"1\" class=\"dataframe\">\n",
       "  <thead>\n",
       "    <tr style=\"text-align: right;\">\n",
       "      <th></th>\n",
       "      <th>counts</th>\n",
       "    </tr>\n",
       "  </thead>\n",
       "  <tbody>\n",
       "    <tr>\n",
       "      <th>obama,</th>\n",
       "      <td>2</td>\n",
       "    </tr>\n",
       "    <tr>\n",
       "      <th>peggior</th>\n",
       "      <td>6</td>\n",
       "    </tr>\n",
       "    <tr>\n",
       "      <th>presidente</th>\n",
       "      <td>203</td>\n",
       "    </tr>\n",
       "    <tr>\n",
       "      <th>storia</th>\n",
       "      <td>98</td>\n",
       "    </tr>\n",
       "    <tr>\n",
       "      <th>usa.</th>\n",
       "      <td>4</td>\n",
       "    </tr>\n",
       "  </tbody>\n",
       "</table>\n",
       "</div>"
      ],
      "text/plain": [
       "            counts\n",
       "obama,           2\n",
       "peggior          6\n",
       "presidente     203\n",
       "storia          98\n",
       "usa.             4"
      ]
     },
     "execution_count": 94,
     "metadata": {},
     "output_type": "execute_result"
    }
   ],
   "source": [
    "d = {}\n",
    "for tweet in tqdm(text):\n",
    "    try:\n",
    "        for word in tweet.split():\n",
    "            word = word.lower()\n",
    "            if word in d.keys():\n",
    "                d[word] += 1\n",
    "            else:\n",
    "                d[word] = 1\n",
    "    except:\n",
    "        pass\n",
    "df = pd.DataFrame(index = d.keys())\n",
    "df['counts'] = d.values()\n",
    "df.head()"
   ]
  },
  {
   "cell_type": "code",
   "execution_count": 119,
   "metadata": {},
   "outputs": [
    {
     "data": {
      "image/png": "[encoded data removed]",
      "text/plain": [
       "<Figure size 1440x360 with 1 Axes>"
      ]
     },
     "metadata": {
      "needs_background": "light"
     },
     "output_type": "display_data"
    }
   ],
   "source": [
    "value_counts = sorted([(d[k], k) for k in d.keys() if len(k) > 5], reverse = True)\n",
    "plt.figure(figsize=(20, 5))\n",
    "plt.bar([i[1] for i in value_counts][0:10], [i[0] for i in value_counts][0:10])\n",
    "plt.xticks(rotation=90)\n",
    "plt.grid()\n",
    "plt.show()"
   ]
  }
 ],
 "metadata": {
  "kernelspec": {
   "display_name": "Python 3",
   "language": "python",
   "name": "python3"
  },
  "language_info": {
   "codemirror_mode": {
    "name": "ipython",
    "version": 3
   },
   "file_extension": ".py",
   "mimetype": "text/x-python",
   "name": "python",
   "nbconvert_exporter": "python",
   "pygments_lexer": "ipython3",
   "version": "3.6.8"
  }
 },
 "nbformat": 4,
 "nbformat_minor": 4
}
